{
 "cells": [
  {
   "cell_type": "code",
   "execution_count": 2,
   "id": "39b4250e-bce0-4b71-bb4e-1bf6ea7ec5e4",
   "metadata": {},
   "outputs": [],
   "source": [
    "import logging"
   ]
  },
  {
   "cell_type": "code",
   "execution_count": 3,
   "id": "4cd067b5-7770-4b55-996e-87d3974e07bf",
   "metadata": {},
   "outputs": [],
   "source": [
    "logging.basicConfig(filename = \"10 Feb_AssQ.log\", level = logging.DEBUG,\n",
    "                   format = '%(asctime)s %(name)s %(levelname)s %(message)s')"
   ]
  },
  {
   "cell_type": "code",
   "execution_count": 4,
   "id": "8c619167-9078-4bfc-ae4f-f55ef71b4e36",
   "metadata": {},
   "outputs": [
    {
     "data": {
      "text/plain": [
       "'\\nThe open() function is used to open a file in Python.\\n\\nThe different modes of opening a file are:\\n\\nr - Read mode. Opens the file for reading only. The file pointer is placed at the beginning of the file. If the file does not exist, an error is raised.\\n\\nw - Write mode. Opens the file for writing only. If the file already exists, it is truncated to zero length. If the file does not exist, it is created.\\n\\na - Append mode. Opens the file for writing only. The file pointer is placed at the end of the file. If the file does not exist, it is created.\\n\\nx - Exclusive creation mode. Opens the file for exclusive creation, failing if the file already exists.\\n\\nb - Binary mode. This is used for opening the file in binary mode.\\n\\nt - Text mode. This is used for opening the file in text mode.\\n\\n+ - Updating mode. This is used for opening the file for both reading and writing.\\n\\nHere is an example of opening a file in write mode:\\n'"
      ]
     },
     "execution_count": 4,
     "metadata": {},
     "output_type": "execute_result"
    }
   ],
   "source": [
    "\"\"\"\n",
    "The open() function is used to open a file in Python.\n",
    "\n",
    "The different modes of opening a file are:\n",
    "\n",
    "r - Read mode. Opens the file for reading only. The file pointer is placed at the beginning of the file. If the file does not exist, an error is raised.\n",
    "\n",
    "w - Write mode. Opens the file for writing only. If the file already exists, it is truncated to zero length. If the file does not exist, it is created.\n",
    "\n",
    "a - Append mode. Opens the file for writing only. The file pointer is placed at the end of the file. If the file does not exist, it is created.\n",
    "\n",
    "x - Exclusive creation mode. Opens the file for exclusive creation, failing if the file already exists.\n",
    "\n",
    "b - Binary mode. This is used for opening the file in binary mode.\n",
    "\n",
    "t - Text mode. This is used for opening the file in text mode.\n",
    "\n",
    "+ - Updating mode. This is used for opening the file for both reading and writing.\n",
    "\n",
    "Here is an example of opening a file in write mode:\n",
    "\"\"\""
   ]
  },
  {
   "cell_type": "code",
   "execution_count": 14,
   "id": "66165436-b014-488b-93a1-f8cf5849312e",
   "metadata": {},
   "outputs": [],
   "source": [
    "filename = \"example.txt\"\n",
    "file = open(filename, \"w\")\n",
    "file.write(\"Hello, World!\")\n",
    "file.close()\n",
    "\n",
    "# Log that the file has been written\n",
    "logging.info(\"File written successfully\")\n"
   ]
  },
  {
   "cell_type": "code",
   "execution_count": 7,
   "id": "579264ad-62d8-4a70-85ce-3ce7253a37ac",
   "metadata": {},
   "outputs": [
    {
     "data": {
      "text/plain": [
       "'\\nThis code creates a file called \"example.txt\" in write mode, \\nwrites the string \"Hello, World!\" to the file, and then closes the file.\\n\\nWhen opening a file, it is important to remember to close the file after reading from or writing to it, \\nusing the close() method. Alternatively, you can use the with statement to open the file, \\nwhich automatically closes the file when the block of code inside the with statement finishes executing:\\n'"
      ]
     },
     "execution_count": 7,
     "metadata": {},
     "output_type": "execute_result"
    }
   ],
   "source": [
    "\"\"\"\n",
    "This code creates a file called \"example.txt\" in write mode, \n",
    "writes the string \"Hello, World!\" to the file, and then closes the file.\n",
    "\n",
    "When opening a file, it is important to remember to close the file after reading from or writing to it, \n",
    "using the close() method. Alternatively, you can use the with statement to open the file, \n",
    "which automatically closes the file when the block of code inside the with statement finishes executing:\n",
    "\"\"\""
   ]
  },
  {
   "cell_type": "code",
   "execution_count": 15,
   "id": "7884384c-c4e2-4acc-88ac-4d5067cfd014",
   "metadata": {},
   "outputs": [],
   "source": [
    "filename = \"example.txt\"\n",
    "with open(filename, \"w\") as file:\n",
    "    file.write(\"Hello, World!\")\n",
    "\n",
    "# Log that the file has been written\n",
    "logging.info(\"File written successfully\")"
   ]
  },
  {
   "cell_type": "code",
   "execution_count": 9,
   "id": "66b9276f-2715-400e-9976-85ea955e9eb8",
   "metadata": {},
   "outputs": [
    {
     "data": {
      "text/plain": [
       "'\\nThis code accomplishes the same task as the previous example, \\nbut automatically closes the file at the end of the with block.\\n\\nIn summary, the different modes of opening a file provide different ways to read from or write to a file.\\nThe mode chosen depends on the intended use of the file, such as whether you need to read or write data, and whether you want to overwrite or append to an existing file.\\n'"
      ]
     },
     "execution_count": 9,
     "metadata": {},
     "output_type": "execute_result"
    }
   ],
   "source": [
    "\"\"\"\n",
    "This code accomplishes the same task as the previous example, \n",
    "but automatically closes the file at the end of the with block.\n",
    "\n",
    "In summary, the different modes of opening a file provide different ways to read from or write to a file.\n",
    "The mode chosen depends on the intended use of the file, such as whether you need to read or write data, and whether you want to overwrite or append to an existing file.\n",
    "\"\"\""
   ]
  },
  {
   "cell_type": "code",
   "execution_count": 10,
   "id": "ab57c799-8f4d-466c-b527-a924252eebcb",
   "metadata": {},
   "outputs": [
    {
     "data": {
      "text/plain": [
       "'\\nQ2. Why close() function is used? Why is it important to close a file?\\n'"
      ]
     },
     "execution_count": 10,
     "metadata": {},
     "output_type": "execute_result"
    }
   ],
   "source": [
    "\"\"\"\n",
    "Q2. Why close() function is used? Why is it important to close a file?\n",
    "\"\"\""
   ]
  },
  {
   "cell_type": "code",
   "execution_count": 11,
   "id": "5060cff9-b91d-4fad-a722-eb119fc3db9e",
   "metadata": {},
   "outputs": [
    {
     "data": {
      "text/plain": [
       "'\\nThe close() function is used in Python to close a file that has been opened using the open() function. \\nIt is important to close a file after using it because it frees up resources, allows other programs to access the file, \\nand prevents data loss or corruption. Using close() is considered good programming practice and helps prevent bugs and errors in your code.'"
      ]
     },
     "execution_count": 11,
     "metadata": {},
     "output_type": "execute_result"
    }
   ],
   "source": [
    "\"\"\"\n",
    "The close() function is used in Python to close a file that has been opened using the open() function. \n",
    "It is important to close a file after using it because it frees up resources, allows other programs to access the file, \n",
    "and prevents data loss or corruption. Using close() is considered good programming practice and helps prevent bugs and errors in your code.\"\"\""
   ]
  },
  {
   "cell_type": "code",
   "execution_count": 12,
   "id": "af27dbbd-fa4e-4261-a9b4-225b062e52bf",
   "metadata": {},
   "outputs": [
    {
     "data": {
      "text/plain": [
       "'\\nQ3. Write a python program to create a text file. \\nWrite ‘I want to become a Data Scientist’ in that file. \\nThen close the file. Open this file and read the content of the file.\\n'"
      ]
     },
     "execution_count": 12,
     "metadata": {},
     "output_type": "execute_result"
    }
   ],
   "source": [
    "\"\"\"\n",
    "Q3. Write a python program to create a text file. \n",
    "Write ‘I want to become a Data Scientist’ in that file. \n",
    "Then close the file. Open this file and read the content of the file.\n",
    "\"\"\""
   ]
  },
  {
   "cell_type": "code",
   "execution_count": 13,
   "id": "57f471d5-12b4-4d9a-940d-ee7d118565ee",
   "metadata": {},
   "outputs": [
    {
     "name": "stdout",
     "output_type": "stream",
     "text": [
      "I want to become a Data Scientist\n"
     ]
    }
   ],
   "source": [
    "# Open file in write mode and write text to it\n",
    "file = open(\"example.txt\", \"w\")\n",
    "file.write(\"I want to become a Data Scientist\")\n",
    "file.close()\n",
    "\n",
    "# Log that the file has been written\n",
    "logging.info(\"File written successfully\")\n",
    "\n",
    "# Open file in read mode and read the content\n",
    "file = open(\"example.txt\", \"r\")\n",
    "content = file.read()\n",
    "print(content)\n",
    "file.close()\n",
    "\n",
    "# Log that the file has been read\n",
    "logging.info(\"File read successfully\")"
   ]
  },
  {
   "cell_type": "code",
   "execution_count": 16,
   "id": "82c629d4-e6ce-41a7-9ab5-11e10f5cc5b1",
   "metadata": {},
   "outputs": [
    {
     "data": {
      "text/plain": [
       "'\\nQ4. Explain the following with python code: read(), readline() and readlines().\\n'"
      ]
     },
     "execution_count": 16,
     "metadata": {},
     "output_type": "execute_result"
    }
   ],
   "source": [
    "\"\"\"\n",
    "Q4. Explain the following with python code: read(), readline() and readlines().\n",
    "\"\"\""
   ]
  },
  {
   "cell_type": "code",
   "execution_count": 18,
   "id": "fb282a6b-8e9a-449a-8029-a70af30217b6",
   "metadata": {},
   "outputs": [],
   "source": [
    "# Open file and read entire contents\n",
    "file = open(\"example.txt\", \"r\")\n",
    "content = file.read()\n",
    "file.close()\n",
    "\n",
    "# Log the content of file\n",
    "logging.info(f\"File contents: {content}\")\n",
    "\n",
    "# Open file and read first line\n",
    "file = open(\"example.txt\", \"r\")\n",
    "line1 = file.readline()\n",
    "file.close()\n",
    "\n",
    "# Log the first line of file\n",
    "logging.info(f\"First line of file: {line1}\")\n",
    "\n",
    "# Open file and read all lines\n",
    "file = open(\"example.txt\", \"r\")\n",
    "lines = file.readlines()\n",
    "file.close()\n",
    "\n",
    "# Log all lines of file\n",
    "for i, line in enumerate(lines):\n",
    "    logging.info(f\"Line {i+1}: {line}\")\n"
   ]
  },
  {
   "cell_type": "code",
   "execution_count": 19,
   "id": "94d96f96-82f3-4625-abc5-6e22d7131723",
   "metadata": {},
   "outputs": [
    {
     "data": {
      "text/plain": [
       "'\\nWe then use the read(), readline(), and readlines() methods to read data from the file. \\nAfter each method call, we log the results using logging.info() statements.\\n\\nNote that we are using f-strings to format the log messages with the appropriate data. \\nAdditionally, we are logging each line of the file individually when using readlines() by using enumerate() to keep track of the line number.\\n\\nWhen you run this code, it will create a log file named \"example.log\" in the same directory as the program and write three log messages to it: \\none with the file contents, one with the first line of the file, and one for each line of the file when using readlines().\\n'"
      ]
     },
     "execution_count": 19,
     "metadata": {},
     "output_type": "execute_result"
    }
   ],
   "source": [
    "\"\"\"\n",
    "We then use the read(), readline(), and readlines() methods to read data from the file. \n",
    "After each method call, we log the results using logging.info() statements.\n",
    "\n",
    "Note that we are using f-strings to format the log messages with the appropriate data. \n",
    "Additionally, we are logging each line of the file individually when using readlines() by using enumerate() to keep track of the line number.\n",
    "\n",
    "When you run this code, it will create a log file named \"example.log\" in the same directory as the program and write three log messages to it: \n",
    "one with the file contents, one with the first line of the file, and one for each line of the file when using readlines().\n",
    "\"\"\""
   ]
  },
  {
   "cell_type": "code",
   "execution_count": 20,
   "id": "4caf7591-1dd8-4954-bc3d-81732c0867f2",
   "metadata": {},
   "outputs": [
    {
     "data": {
      "text/plain": [
       "'\\nQ5. Explain why with statement is used with open(). What is the advantage of using with statement and open() together?\\n'"
      ]
     },
     "execution_count": 20,
     "metadata": {},
     "output_type": "execute_result"
    }
   ],
   "source": [
    "\"\"\"\n",
    "Q5. Explain why with statement is used with open(). What is the advantage of using with statement and open() together?\n",
    "\"\"\""
   ]
  },
  {
   "cell_type": "code",
   "execution_count": 21,
   "id": "4cb475f0-1024-4d38-84c1-d94decfa9728",
   "metadata": {},
   "outputs": [
    {
     "data": {
      "text/plain": [
       "\"\\nThe with statement in Python is used to wrap the execution of a block of code with methods defined by a context manager. \\nIn the case of file operations, it helps to ensure that the file is closed when the block of code is exited, even if an exception is raised.\\n\\nWhen using open() without the with statement, it is necessary to manually close the file using file.close() \\nto ensure that resources are freed properly. However, this can be easily forgotten, and can lead to errors or resource leaks.\\n\\nUsing open() in combination with the with statement allows us to simplify our code and ensure that the file is always properly closed,\\neven if an exception is raised during the execution of the block.\\n\\nHere's an example of using with statement with open() to read the contents of a file:\\n\""
      ]
     },
     "execution_count": 21,
     "metadata": {},
     "output_type": "execute_result"
    }
   ],
   "source": [
    "\"\"\"\n",
    "The with statement in Python is used to wrap the execution of a block of code with methods defined by a context manager. \n",
    "In the case of file operations, it helps to ensure that the file is closed when the block of code is exited, even if an exception is raised.\n",
    "\n",
    "When using open() without the with statement, it is necessary to manually close the file using file.close() \n",
    "to ensure that resources are freed properly. However, this can be easily forgotten, and can lead to errors or resource leaks.\n",
    "\n",
    "Using open() in combination with the with statement allows us to simplify our code and ensure that the file is always properly closed,\n",
    "even if an exception is raised during the execution of the block.\n",
    "\n",
    "Here's an example of using with statement with open() to read the contents of a file:\n",
    "\"\"\""
   ]
  },
  {
   "cell_type": "code",
   "execution_count": 22,
   "id": "542fd4a6-6e24-4685-849e-3a5b958e4548",
   "metadata": {},
   "outputs": [],
   "source": [
    "# Open file and read its contents using with statement\n",
    "with open(\"example.txt\", \"r\") as file:\n",
    "    content = file.read()\n",
    "\n",
    "# Log the contents of file\n",
    "logging.info(f\"File contents: {content}\")\n"
   ]
  },
  {
   "cell_type": "code",
   "execution_count": 23,
   "id": "de1d14f7-d1cc-4526-80ef-a9661477fbaf",
   "metadata": {},
   "outputs": [
    {
     "data": {
      "text/plain": [
       "'\\nQ6. Explain the write() and writelines() functions. Give a suitable example.\\n'"
      ]
     },
     "execution_count": 23,
     "metadata": {},
     "output_type": "execute_result"
    }
   ],
   "source": [
    "\"\"\"\n",
    "Q6. Explain the write() and writelines() functions. Give a suitable example.\n",
    "\"\"\""
   ]
  },
  {
   "cell_type": "code",
   "execution_count": 24,
   "id": "6b4d7613-553a-40a8-9e7c-6f1ca200770b",
   "metadata": {},
   "outputs": [
    {
     "data": {
      "text/plain": [
       "\"\\nwrite() and writelines() are built-in functions that are used to write data to a file.\\n\\nwrite() function writes a single string to a file.\\nIt takes a single argument, which is the string to be written to the file. \\nIf the file already contains some data, the write() function will overwrite the existing data with the new string.\\n\\nHere's an example of using the write() function to write a string to a file:\\n\""
      ]
     },
     "execution_count": 24,
     "metadata": {},
     "output_type": "execute_result"
    }
   ],
   "source": [
    "\"\"\"\n",
    "write() and writelines() are built-in functions that are used to write data to a file.\n",
    "\n",
    "write() function writes a single string to a file.\n",
    "It takes a single argument, which is the string to be written to the file. \n",
    "If the file already contains some data, the write() function will overwrite the existing data with the new string.\n",
    "\n",
    "Here's an example of using the write() function to write a string to a file:\n",
    "\"\"\""
   ]
  },
  {
   "cell_type": "code",
   "execution_count": 25,
   "id": "30dfd35d-007d-45bc-8eba-462f6b1242d2",
   "metadata": {},
   "outputs": [],
   "source": [
    "# Open file in write mode and write text to it using write() function\n",
    "with open(\"example.txt\", \"w\") as file:\n",
    "    file.write(\"This is the first line of text\\n\")\n",
    "    file.write(\"This is the second line of text\\n\")\n",
    "\n",
    "# Log message indicating that file was written successfully\n",
    "logging.info(\"File was written successfully using write() function\")"
   ]
  },
  {
   "cell_type": "code",
   "execution_count": 26,
   "id": "934230fe-f001-4107-8a47-539333ed2ee5",
   "metadata": {},
   "outputs": [
    {
     "data": {
      "text/plain": [
       "\"\\nIn this code, we open a file in write mode using the with statement, and then use the write() function to write two strings to the file.\\n\\nOn the other hand, writelines() function is used to write a list of strings to a file. \\nEach string in the list is written to the file as a separate line. Unlike write() function, writelines() \\nfunction does not add any line breaks automatically.\\n\\nHere's an example of using the writelines() function to write a list of strings to a file:\\n\""
      ]
     },
     "execution_count": 26,
     "metadata": {},
     "output_type": "execute_result"
    }
   ],
   "source": [
    "\"\"\"\n",
    "In this code, we open a file in write mode using the with statement, and then use the write() function to write two strings to the file.\n",
    "\n",
    "On the other hand, writelines() function is used to write a list of strings to a file. \n",
    "Each string in the list is written to the file as a separate line. Unlike write() function, writelines() \n",
    "function does not add any line breaks automatically.\n",
    "\n",
    "Here's an example of using the writelines() function to write a list of strings to a file:\n",
    "\"\"\""
   ]
  },
  {
   "cell_type": "code",
   "execution_count": 27,
   "id": "e3033073-6931-4d52-b4c3-fc60eff64b25",
   "metadata": {},
   "outputs": [],
   "source": [
    "# Open file in write mode and write text to it using writelines() function\n",
    "with open(\"example.txt\", \"w\") as file:\n",
    "    lines = [\"This is the first line of text\\n\", \"This is the second line of text\\n\"]\n",
    "    file.writelines(lines)\n",
    "\n",
    "# Log message indicating that file was written successfully\n",
    "logging.info(\"File was written successfully using writelines() function\")\n"
   ]
  },
  {
   "cell_type": "code",
   "execution_count": 28,
   "id": "fcd08d19-5d41-4ed7-8971-3542d7e95459",
   "metadata": {},
   "outputs": [
    {
     "data": {
      "text/plain": [
       "'\\nIn this code, we open a file in write mode using the with statement, \\nand then use the writelines() function to write a list of strings to the file. \\nEach string is written as a separate line in the file.\\n\\nBoth write() and writelines() functions are useful for writing data to a file in Python. \\nThe choice between them depends on the specific requirements of the use case\\n'"
      ]
     },
     "execution_count": 28,
     "metadata": {},
     "output_type": "execute_result"
    }
   ],
   "source": [
    "\"\"\"\n",
    "In this code, we open a file in write mode using the with statement, \n",
    "and then use the writelines() function to write a list of strings to the file. \n",
    "Each string is written as a separate line in the file.\n",
    "\n",
    "Both write() and writelines() functions are useful for writing data to a file in Python. \n",
    "The choice between them depends on the specific requirements of the use case\n",
    "\"\"\""
   ]
  },
  {
   "cell_type": "code",
   "execution_count": 29,
   "id": "85ae3830-692f-40d3-9679-a4d274b26569",
   "metadata": {},
   "outputs": [],
   "source": [
    "logging.shutdown()"
   ]
  },
  {
   "cell_type": "code",
   "execution_count": null,
   "id": "6a527b64-d440-4773-a491-56d0114dc6ed",
   "metadata": {},
   "outputs": [],
   "source": []
  }
 ],
 "metadata": {
  "kernelspec": {
   "display_name": "Python 3 (ipykernel)",
   "language": "python",
   "name": "python3"
  },
  "language_info": {
   "codemirror_mode": {
    "name": "ipython",
    "version": 3
   },
   "file_extension": ".py",
   "mimetype": "text/x-python",
   "name": "python",
   "nbconvert_exporter": "python",
   "pygments_lexer": "ipython3",
   "version": "3.10.8"
  }
 },
 "nbformat": 4,
 "nbformat_minor": 5
}
